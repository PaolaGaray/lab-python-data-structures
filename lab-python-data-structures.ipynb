{
 "cells": [
  {
   "cell_type": "markdown",
   "metadata": {
    "tags": []
   },
   "source": [
    "# Lab | Data Structures "
   ]
  },
  {
   "cell_type": "markdown",
   "metadata": {},
   "source": [
    "## Exercise: Managing Customer Orders\n",
    "\n",
    "As part of a business venture, you are starting an online store that sells various products. To ensure smooth operations, you need to develop a program that manages customer orders and inventory.\n",
    "\n",
    "Follow the steps below to complete the exercise:\n",
    "\n",
    "1. Define a list called `products` that contains the following items: \"t-shirt\", \"mug\", \"hat\", \"book\", \"keychain\"."
   ]
  },
  {
   "cell_type": "code",
   "execution_count": 40,
   "metadata": {},
   "outputs": [],
   "source": [
    "products = [\"t-shirt\", \"mug\", \"hat\", \"book\", \"keychain\"]"
   ]
  },
  {
   "cell_type": "markdown",
   "metadata": {},
   "source": [
    "2. Create an empty dictionary called `inventory`."
   ]
  },
  {
   "cell_type": "code",
   "execution_count": 42,
   "metadata": {},
   "outputs": [],
   "source": [
    "inventory = {}"
   ]
  },
  {
   "cell_type": "markdown",
   "metadata": {},
   "source": [
    "3. Ask the user to input the quantity of each product available in the inventory. Use the product names from the `products` list as keys in the `inventory` dictionary and assign the respective quantities as values."
   ]
  },
  {
   "cell_type": "code",
   "execution_count": 44,
   "metadata": {},
   "outputs": [
    {
     "name": "stdin",
     "output_type": "stream",
     "text": [
      "Please enter the quantity of the t-shirt:  60\n",
      "Please enter the quantity of the mug:  30\n",
      "Please enter the quantity of the hat:  75\n",
      "Please enter the quantity of the book:  34\n",
      "Please enter the quantity of the keychain:  87\n"
     ]
    },
    {
     "name": "stdout",
     "output_type": "stream",
     "text": [
      "\n",
      "Inventory: {'t-shirt': '60', 'mug': '30', 'hat': '75', 'book': '34', 'keychain': '87'}\n"
     ]
    }
   ],
   "source": [
    "for product in products:\n",
    "    quantity = input(f\"Please enter the quantity of the {product}: \")\n",
    "    inventory[product] = quantity\n",
    "\n",
    "print(f\"\\nInventory: {inventory}\")"
   ]
  },
  {
   "cell_type": "markdown",
   "metadata": {},
   "source": [
    "4. Create an empty set called `customer_orders`."
   ]
  },
  {
   "cell_type": "code",
   "execution_count": 8,
   "metadata": {},
   "outputs": [
    {
     "name": "stdout",
     "output_type": "stream",
     "text": [
      "<class 'set'>\n"
     ]
    }
   ],
   "source": [
    "customer_orders = set()\n",
    "print(type(customer_orders))"
   ]
  },
  {
   "cell_type": "markdown",
   "metadata": {},
   "source": [
    "5. Ask the user to input the name of three products that a customer wants to order (from those in the products list, meaning three products out of \"t-shirt\", \"mug\", \"hat\", \"book\" or \"keychain\". Add each product name to the `customer_orders` set."
   ]
  },
  {
   "cell_type": "code",
   "execution_count": 10,
   "metadata": {},
   "outputs": [
    {
     "name": "stdout",
     "output_type": "stream",
     "text": [
      "Hi, please enter the name of three products. They can be 't-shirt', 'mug', 'hat', 'book' or 'keychain'\n"
     ]
    },
    {
     "name": "stdin",
     "output_type": "stream",
     "text": [
      " Product number 1:  \n",
      " mug\n",
      " Product number 2:  \n",
      " book\n",
      " Product number 3:  \n",
      " krychain\n"
     ]
    }
   ],
   "source": [
    "print(\"Hi, please enter the name of three products. They can be 't-shirt', 'mug', 'hat', 'book' or 'keychain'\")\n",
    "for i in range (1, 4):\n",
    "    product = input(f\" Product number {i}:  \\n\")\n",
    "    customer_orders.add(product)"
   ]
  },
  {
   "cell_type": "markdown",
   "metadata": {},
   "source": [
    "6. Print the products in the `customer_orders` set."
   ]
  },
  {
   "cell_type": "code",
   "execution_count": 12,
   "metadata": {},
   "outputs": [
    {
     "name": "stdout",
     "output_type": "stream",
     "text": [
      "\n",
      " Customer orders: {'krychain', 'book', 'mug'}\n"
     ]
    }
   ],
   "source": [
    "print(f\"\\n Customer orders: {customer_orders}\")"
   ]
  },
  {
   "cell_type": "markdown",
   "metadata": {},
   "source": [
    "7. Calculate the following order statistics:\n",
    "   - Total Products Ordered: The total number of products in the `customer_orders` set.\n",
    "   - Percentage of Products Ordered: The percentage of products ordered compared to the total available products.\n",
    "   \n",
    "   Store these statistics in a tuple called `order_status`."
   ]
  },
  {
   "cell_type": "code",
   "execution_count": 50,
   "metadata": {},
   "outputs": [
    {
     "name": "stdout",
     "output_type": "stream",
     "text": [
      "Hi, please enter the name of three products and the quantity. They can be 't-shirt', 'mug', 'hat', 'book' or 'keychain'\n"
     ]
    },
    {
     "name": "stdin",
     "output_type": "stream",
     "text": [
      "Product number 1:   mug\n",
      "Quantity for mug:  2\n",
      "Product number 2:   book\n",
      "Quantity for book:  4\n",
      "Product number 3:   keychain\n",
      "Quantity for keychain:  2\n"
     ]
    },
    {
     "name": "stdout",
     "output_type": "stream",
     "text": [
      "Customer orders: {'mug': 2, 'book': 4, 'keychain': 2}\n"
     ]
    }
   ],
   "source": [
    "# We need to add a step to determine the quantity of products the user requires\n",
    "# I'll create a dictionary, as it's the best structure to relate product and quantity\n",
    "\n",
    "customer_orders = {}\n",
    "print(\"Hi, please enter the name of three products and the quantity. They can be 't-shirt', 'mug', 'hat', 'book' or 'keychain'\")\n",
    "for i in range (1, 4):\n",
    "    product = input(f\"Product number {i}:  \")\n",
    "    quantity = int(input(f\"Quantity for {product}: \"))\n",
    "    customer_orders[product] = quantity\n",
    "\n",
    "print(f\"Customer orders: {customer_orders}\")"
   ]
  },
  {
   "cell_type": "code",
   "execution_count": 54,
   "metadata": {},
   "outputs": [
    {
     "name": "stdout",
     "output_type": "stream",
     "text": [
      "In total the customer ordered: 8 products.\n"
     ]
    }
   ],
   "source": [
    "# Total Products Ordered\n",
    "total_products_ordered = 0\n",
    "for value in customer_orders.values():\n",
    "    total_products_ordered = total_products_ordered + value\n",
    "\n",
    "print(f\"In total the customer ordered: {total_products_ordered} products.\")"
   ]
  },
  {
   "cell_type": "code",
   "execution_count": 97,
   "metadata": {},
   "outputs": [
    {
     "name": "stdout",
     "output_type": "stream",
     "text": [
      "The percentage of mug ordered compared to the inventory is 7%\n",
      "The percentage of book ordered compared to the inventory is 12%\n",
      "The percentage of keychain ordered compared to the inventory is 2%\n"
     ]
    }
   ],
   "source": [
    "# Percentage of Products Ordered compared to the total available products\n",
    "percentage_products = []\n",
    "order_status = ()\n",
    "list_order_statuses = []\n",
    "for key, value in inventory.items():\n",
    "    for product, quantity in customer_orders.items():\n",
    "        if key == product:\n",
    "            percentage = round(((int(quantity)/int(value)) * 100))\n",
    "            percentage_products.append(percentage)\n",
    "            print(f\"The percentage of {product} ordered compared to the inventory is {percentage}%\")\n",
    "            order_status = (product, percentage)\n",
    "            list_order_statuses.append(order_status)\n",
    "            inventory[key] = int(value) - int(quantity) \n",
    "            \n",
    "# print(percentage_products)\n",
    "# print(list_order_statuses)"
   ]
  },
  {
   "cell_type": "markdown",
   "metadata": {},
   "source": [
    "8. Print the order statistics using the following format:\n",
    "   ```\n",
    "   Order Statistics:\n",
    "   Total Products Ordered: <total_products_ordered>\n",
    "   Percentage of Products Ordered: <percentage_ordered>% \n",
    "   ```"
   ]
  },
  {
   "cell_type": "code",
   "execution_count": 95,
   "metadata": {},
   "outputs": [
    {
     "name": "stdout",
     "output_type": "stream",
     "text": [
      "Order Statistics:\n",
      "Total products ordered: 8 \n",
      "Percentage of Products Ordered: 3%\n"
     ]
    }
   ],
   "source": [
    "# I'll calculate the percentage of products ordered about the total inventory\n",
    "\n",
    "total_inventory = 0\n",
    "for value in inventory.values():\n",
    "    total_inventory = total_inventory + int(value)\n",
    "\n",
    "#percentage_products_ordered = round((total_products_ordered/total_inventory)*100)\n",
    "#print(total_inventory)\n",
    "#print(percentage_products_ordered)\n",
    "\n",
    "\n",
    "print(\"Order Statistics:\")\n",
    "print(f\"Total products ordered: {total_products_ordered} \")\n",
    "print(f\"Percentage of Products Ordered: {percentage_products_ordered}%\")"
   ]
  },
  {
   "cell_type": "markdown",
   "metadata": {},
   "source": [
    "9. Update the inventory by subtracting 1 from the quantity of each product. Modify the `inventory` dictionary accordingly.\n",
    "10. Print the updated inventory, displaying the quantity of each product on separate lines."
   ]
  },
  {
   "cell_type": "code",
   "execution_count": 101,
   "metadata": {},
   "outputs": [
    {
     "name": "stdout",
     "output_type": "stream",
     "text": [
      "Here is the inventory updated: {'t-shirt': '60', 'mug': 28, 'hat': '75', 'book': 30, 'keychain': 85}\n"
     ]
    }
   ],
   "source": [
    "print(f\"Here is the inventory updated: {inventory}\")"
   ]
  }
 ],
 "metadata": {
  "kernelspec": {
   "display_name": "Python 3 (ipykernel)",
   "language": "python",
   "name": "python3"
  },
  "language_info": {
   "codemirror_mode": {
    "name": "ipython",
    "version": 3
   },
   "file_extension": ".py",
   "mimetype": "text/x-python",
   "name": "python",
   "nbconvert_exporter": "python",
   "pygments_lexer": "ipython3",
   "version": "3.12.4"
  }
 },
 "nbformat": 4,
 "nbformat_minor": 4
}
